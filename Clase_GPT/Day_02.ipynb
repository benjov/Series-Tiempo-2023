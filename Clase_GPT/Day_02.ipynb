{
 "cells": [
  {
   "cell_type": "markdown",
   "id": "7ebe2e9d-685d-4ea3-ab7c-9589caaabff5",
   "metadata": {},
   "source": [
    "# Guideline for Prompt engineering (Cont.)\n",
    "\n",
    "## Iterar\n",
    "\n",
    "Cuando se entrena un modelo de aprendizaje automático casi nunca funciona la primera vez. \n",
    "\n",
    "En general, cuando programamos una serie de indicaciones, las probabilidades de que nuestro código funcione la primera vez son quizás un bajas, pero conforme revisamos e iteramos, al final, nuestro código funcionará.\n",
    "\n",
    "Como dijimos, esto aplica a los promts--así que no presten tanta atención a los artículos de Internet que dicen que tienen los 30 promts más efectivos, etc., ya que probablemente no existe un prompt perfecto para todos.\n",
    "\n",
    "### El proceso iterativo\n",
    "\n",
    "1. Intenta una vez.\n",
    "2. Analiza en que casos o donde los resultados no proporcionan los resultados deseados.\n",
    "3. Clarifica las instrucciones o dale más tiempo al modelo para pensar.\n",
    "4. Refina tu prompt con algunos ejemplos.\n",
    "\n",
    "<img src=\"Iterate.png\" alt=\"Iterate\" width=\"400\" height=\"300\">"
   ]
  },
  {
   "cell_type": "markdown",
   "id": "a10636ba",
   "metadata": {},
   "source": [
    "## Resumir\n",
    "\n",
    "Resumir un texto centrándose en temas específicos.\n",
    "\n",
    "text = \"Compré este peluche de panda para el cumpleaños de mi hija, a quien le encanta y lo lleva a todas partes. Es suave y súper lindo, y su cara tiene una mirada amigable. Aunque es un poco pequeño para lo que pagué. Creo que puede haber otras opciones más grandes por el mismo precio. Llegó un día antes de lo esperado, así que pude jugar con él antes de dárselo.\"\n",
    "\n",
    "prompt_1 = \"Tu tarea es generar un breve resumen de una reseña de producto de un sitio de comercio electrónico.\n",
    "Resuma la siguiente reseña, delimitada por triples comillas. Emplea un máximo de 30 palabras. Revisión: \"\"\"{text}\"\"\".\"\n",
    "\n",
    "prompt_2 = \"Tu tarea es generar un breve resumen de una reseña de producto de un sitio de comercio electrónico para enviar comentarios al departamento responsable de determinar el precio del producto.\n",
    "Resuma la siguiente reseña, delimitada por triples comillas. Emplea un máximo de 30 palabras y centrate en cualquier aspecto que sea relevante para el precio y el valor percibido. Revisión: \"\"\"{text}\"\"\".\"\n",
    "\n",
    "## Transformar\n",
    "\n",
    "* Los LLM son muy buenos para transformar su entrada a un formato diferente, como ingresar un fragmento de texto en un idioma y transformarlo o traducirlo a un idioma diferente, o ayudar con correcciones ortográficas y gramaticales. \n",
    "\n",
    "* Es posible tomar como entrada un fragmento de texto que puede no ser correcto gramaticamente y arreglarlo un poco.\n",
    "\n",
    "text = \"El éxito de cualquier política puvlica no solo recae en su planeación y en ponerla en march, sino también, depende que tanto la sociedad cre y confía en la capacidad del govierno para diseñar las estrategías que garanticen el bienestar de la población por encima de los intereses de un partido o de un grupo.\"\n",
    "\n",
    "prompt_1 = \"Revisa y corrige este texto: \"{text}\".\"\n",
    "\n",
    "prompt_2 = \"Revisa y corrige el siguiente texto. Hazlo más convincente. Asegúrese de que siga la guía de estilo APA y esté dirigido a un lector especializado en economía. Texto: \"{text}\".\"\n",
    "\n",
    "* Podemos transformar formatos como HTML y generar un JSON.\n",
    "\n",
    "* Pero más interesante, podemos transformar el tono. La redacción puede variar según la audiencia prevista y ChatGPT puede producir diferentes tonos.\n",
    "\n",
    "prompt_1 = \"Traduce el siguiente texto al español tanto en su forma formal como informal: '¿Te gustaría pedir una almohada?'\"\n",
    "\n",
    "promot_2 = \"Traduce el siguiente texto en un tono coloquial a una carta en tono comercial: \"Amigo, soy Juan, mira las especificaciones de esta lámpara de pie\".\"\n",
    "\n",
    "## Expandir e inferir\n",
    "\n",
    "* Expandir es la tarea de tomar un fragmento de texto más corto, como un conjunto de instrucciones o una lista de temas, y hacer que el LLM genere un fragmento de texto más largo, como un correo electrónico o un ensayo sobre algún tema (más adelante regresaremos a este punto).\n",
    "\n",
    "* Hay algunos usos excelentes de esto: utilizar un LLM como compañero en una lluvia de ideas. \n",
    "\n",
    "* Pero también hay algunos casos de uso problemáticos de esto: generar una gran cantidad de spam. \n",
    "\n",
    "* Por lo tanto, úsalo de manera responsable y de una manera que ayude a las personas.\n",
    "\n",
    "* Un uso importante es inferir:\n",
    "\n",
    "review = \"En este tiempo de uso (alrededor de 2 semanas) se ha comportado muy bien el equipo, veremos como se desempeña posteriormente.\n",
    "En cuanto a precio-características del equipo satisfecho, nada más lo que no se cumplió es la pantalla de 15.6 pulgadas expresadas a que realmente es de 15 pulgadas (de acuerdo a descripción física en teclado).\n",
    "En relación a tiempo entrega se adelantó a lo programado.\"\n",
    "\n",
    "prompt = \"Eres un asistente de IA de servicio al cliente. Tu tarea es enviar una respuesta por correo electrónico a un cliente valioso. Dado el correo electrónico del cliente delimitado por \"\"\", genera una respuesta para agradecer al cliente por su reseña. Asume que el sentimiento es negativo, por lo tanto discúlpate y sugiere que se comuniquen con el servicio de atención al cliente. Asegúrese de utilizar detalles específicos de la revisión. Escribe en un tono conciso y profesional. Firma el correo electrónico como \"Agente de cliente de AI\". Opinión del cliente: \"\"\"{review}\"\"\".\"\n"
   ]
  },
  {
   "cell_type": "markdown",
   "id": "6e96f6d7",
   "metadata": {},
   "source": [
    "# Temperatura o cómo ser un Stochastic Parrot no es tan malo\n",
    "\n",
    "* Usaremos un parámetro del modelo de lenguaje llamado \"temperatura\" que nos permitirá cambiar el tipo de variedad de las respuestas del modelo.\n",
    "\n",
    "* Podemos pensar en la temperatura como el grado de exploración o el tipo de aleatoriedad del modelo.\n",
    "\n",
    "* A temperaturas más altas, los resultados del modelo son más aleatorios. \n",
    "\n",
    "* Es posible pensar que a temperaturas más altas el asistente se distrae más pero tal vez sea más creativo.\n",
    "\n",
    "* Por ejemplo: \n",
    "\n",
    "<img src=\"Temperature.png\" alt=\"Temperature\" width=\"400\" height=\"300\">"
   ]
  },
  {
   "cell_type": "code",
   "execution_count": 1,
   "id": "77ea99d5",
   "metadata": {},
   "outputs": [],
   "source": [
    "import openai\n",
    "import os\n",
    "\n",
    "openai.api_key  = ''"
   ]
  },
  {
   "cell_type": "code",
   "execution_count": 2,
   "id": "f92c1dcc-1cef-42f7-9291-fa1dfa9fcc1b",
   "metadata": {},
   "outputs": [],
   "source": [
    "def get_completion( prompt, model = \"gpt-3.5-turbo\", # See: https://platform.openai.com/docs/models/gpt-3-5\n",
    "                    temperature = 0): # \n",
    "    messages = [{\"role\": \"user\", \"content\": prompt}]\n",
    "    response = openai.ChatCompletion.create(\n",
    "        model = model,\n",
    "        messages = messages,\n",
    "        temperature = temperature, # this is the degree of randomness of the model's output\n",
    "    )\n",
    "    return response.choices[0].message[\"content\"]"
   ]
  },
  {
   "cell_type": "markdown",
   "id": "414b6ade",
   "metadata": {},
   "source": [
    "## Customize the automated reply to a customer email"
   ]
  },
  {
   "cell_type": "code",
   "execution_count": 3,
   "id": "93066d61",
   "metadata": {},
   "outputs": [],
   "source": [
    "# Review: Souce: https://es.trustpilot.com/review/amazon.es\n",
    "review = f\"\"\"\n",
    "Amazon me acaba de estafar 269€ ni mas ni menos. \n",
    "En junio de este año me dan un apple watch nuevo que deja de funcionar a los dos meses,\\\n",
    "no aceptar darme otro si no que me ofrecen una reparación. Recibo el paquete con la supuesta \\\n",
    "reparacion de mi iwatch nuevo y resulta que me dan otra unidad de otro reloj reacondicionado. \\\n",
    "Les digo que de ninguna manera. Me ofrecen un reembolso.\n",
    "Con mucho esmero envuelvo el paquete y lo entrego en un punto celeritas.\n",
    "Cual es mi sorpresa cuando recibo como muchos otros usuarios que comentan aqui un correo \\\n",
    "en el que dice que he enviado un producto erroneo o incompleto y que no me DEVUELVEN MI \\\n",
    "DINERO NI MI RELOJ. No atienden llamadas solo correos y no hay derecho a replica. Y aqui me \\\n",
    "he quedado con cara de tonta.\n",
    "Una estafa sistematica por parte de amazon para las devoluciones. \n",
    "Tienen que parar con esta practica fradulenta, alguien deberia investigarles, desde luego yo lo \\\n",
    "voy a poner en manos de las autoridades.\"\"\"\n"
   ]
  },
  {
   "cell_type": "code",
   "execution_count": 4,
   "id": "3b0f9a18",
   "metadata": {},
   "outputs": [],
   "source": [
    "prompt = f\"\"\"\n",
    "Eres un asistente de IA de servicio al cliente. \n",
    "Tu tarea es enviar una respuesta por correo electrónico a un cliente valioso. \n",
    "Dado el correo electrónico del cliente delimitado por ```, genera una respuesta para agradecer \\\n",
    "al cliente por su reseña. Asume que el sentimiento es negativo, discúlpate y sugiera que se \\\n",
    "comuniquen con el servicio de atención al cliente. \n",
    "Asegúrate de utilizar detalles específicos de la revisión. \n",
    "Escribe en un tono conciso y profesional. \n",
    "Firma el correo electrónico como \"agente de cliente de AI\". \n",
    "Opinión del cliente: ```{review}```\n",
    "\"\"\""
   ]
  },
  {
   "cell_type": "code",
   "execution_count": 5,
   "id": "9df803f6",
   "metadata": {},
   "outputs": [
    {
     "name": "stdout",
     "output_type": "stream",
     "text": [
      "Estimado cliente,\n",
      "\n",
      "Gracias por tomarse el tiempo para compartir su experiencia con nosotros. Lamentamos sinceramente escuchar sobre los problemas que ha enfrentado con su compra y el servicio de atención al cliente de Amazon.\n",
      "\n",
      "Nos disculpamos por cualquier inconveniente que esto haya causado. Entendemos su frustración y le aseguramos que tomamos este asunto muy en serio. Valoramos su lealtad como cliente y nos gustaría resolver esta situación de la mejor manera posible.\n",
      "\n",
      "Le recomendamos encarecidamente que se comunique con nuestro servicio de atención al cliente para que podamos investigar y resolver este problema de manera adecuada. Nuestro equipo de atención al cliente está disponible para ayudarlo y encontrar una solución satisfactoria.\n",
      "\n",
      "Una vez más, lamentamos profundamente los inconvenientes que esto ha causado y agradecemos su paciencia y comprensión. Esperamos poder resolver este problema y restaurar su confianza en nuestros servicios.\n",
      "\n",
      "Si tiene alguna otra pregunta o inquietud, no dude en comunicarse con nosotros. Estamos aquí para ayudarlo.\n",
      "\n",
      "Atentamente,\n",
      "Agente de servicio al cliente de IA\n"
     ]
    }
   ],
   "source": [
    "response = get_completion(prompt)\n",
    "print(response)"
   ]
  },
  {
   "cell_type": "code",
   "execution_count": null,
   "id": "55b34c6f",
   "metadata": {},
   "outputs": [],
   "source": []
  },
  {
   "cell_type": "code",
   "execution_count": null,
   "id": "a37137f7",
   "metadata": {},
   "outputs": [],
   "source": []
  }
 ],
 "metadata": {
  "kernelspec": {
   "display_name": "Python 3 (ipykernel)",
   "language": "python",
   "name": "python3"
  },
  "language_info": {
   "codemirror_mode": {
    "name": "ipython",
    "version": 3
   },
   "file_extension": ".py",
   "mimetype": "text/x-python",
   "name": "python",
   "nbconvert_exporter": "python",
   "pygments_lexer": "ipython3",
   "version": "3.10.4"
  }
 },
 "nbformat": 4,
 "nbformat_minor": 5
}
