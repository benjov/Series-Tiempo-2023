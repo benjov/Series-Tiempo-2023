{
  "cells": [
    {
      "cell_type": "markdown",
      "metadata": {
        "id": "g2WGNQMYCVM3"
      },
      "source": [
        "# Cálculo de Filtro Hodrick-Prescott\n"
      ]
    },
    {
      "cell_type": "markdown",
      "metadata": {
        "id": "uxgZnmEOCVM5"
      },
      "source": [
        "## Filtro Hodrick-Prescott"
      ]
    },
    {
      "cell_type": "markdown",
      "metadata": {
        "id": "fEXyu6-eCVM6"
      },
      "source": [
        "### Hodrick-Prescott"
      ]
    },
    {
      "cell_type": "markdown",
      "metadata": {
        "id": "ZsqLwrxOCVM6"
      },
      "source": [
        "Método tradicional de HP consiste en minimizar la serie $\\{ \\tau_t \\}_{t=-1}^T$:\n",
        "\n",
        "$$\\sum_{t=1}^T (y_t - \\tau_t)^2 + \\lambda \\sum_{t=1}^{T} [(\\tau_{t} - \\tau_{t-1}) - (\\tau_{t-1} - \\tau_{t-2})]^2$$\n",
        "\n",
        "Donde $\\lambda$ es una parámetro fijo (determinado ex-ante) y $\\tau_t$ es un componente de tendencia de $y_t$."
      ]
    },
    {
      "cell_type": "markdown",
      "metadata": {
        "id": "XCSv2i0hCVM6"
      },
      "source": [
        "Sin pérdida de generalidad, asumiremos que $\\tau_{-1}$ y $\\tau_{0}$ son cero (0). De esta manera, la forma matricial del filtro HP es:\n",
        "$$(Y - G)'(Y - G) + \\lambda G' K' K G$$\n",
        "\n",
        "La derivada de los anteriores:\n",
        "$$-2 Y + 2 G + \\lambda 2 K' K G = 0$$\n",
        "\n",
        "Despejando:\n",
        "$$G_{hp} = [I_T + \\lambda K' K]^{-1} Y$$"
      ]
    },
    {
      "cell_type": "markdown",
      "metadata": {
        "id": "pREr_g1UCVM6"
      },
      "source": [
        "Donde $G$ es el vector de tendencia, $Y$ es el vector de la serie de datos, $\\lambda$ es la constante tradicional, y $K$ es de dimensión $T \\times T$ y está dada por la expresión:\n",
        "$$K =\n",
        "\\begin{pmatrix}\n",
        "1 & 0 & 0 & 0 & \\ldots & 0 \\\\\n",
        "-2 & 1 & 0 & 0 & \\ldots & 0 \\\\\n",
        "1 & -2 & 1 & 0 & \\ldots & 0 \\\\\n",
        "0 & 1 & -2 & 1 & \\ldots & 0 \\\\\n",
        "\\vdots & \\vdots &  \\vdots &  \\vdots &  \\vdots &  \\vdots \\\\\n",
        "0 & 0 & 0 & 0 & \\ldots & 1 \\\\\n",
        "\\end{pmatrix}\n",
        "$$"
      ]
    },
    {
      "cell_type": "markdown",
      "metadata": {
        "id": "kgkzoUMvCVM6"
      },
      "source": [
        "Así:\n",
        "\n",
        "$$K' =\n",
        "\\begin{pmatrix}\n",
        "1 & -2 & 1 & 0 & \\ldots & 0 \\\\\n",
        "0 & 1 & -2 & 1 & \\ldots & 0 \\\\\n",
        "0 & 0 & 1 & -2 & \\ldots & 0 \\\\\n",
        "0 & 0 & 0 & 1 & \\ldots & 0 \\\\\n",
        "\\vdots & \\vdots &  \\vdots &  \\vdots &  \\vdots &  \\vdots \\\\\n",
        "0 & 0 & 0 & 0 & \\ldots & 1 \\\\\n",
        "\\end{pmatrix}\n",
        "$$"
      ]
    },
    {
      "cell_type": "markdown",
      "metadata": {
        "id": "F_eSV2lMCVM8"
      },
      "source": [
        "### Hodrick-Prescott por el Método de Ajuste de Colas (St-Amant & van Norden)"
      ]
    },
    {
      "cell_type": "markdown",
      "metadata": {
        "id": "SE0ipGlYCVM8"
      },
      "source": [
        "### Hodrick-Prescott planteado por St-Amant & van Norden"
      ]
    },
    {
      "cell_type": "markdown",
      "metadata": {
        "id": "dzLdHkYzCVM8"
      },
      "source": [
        "Método modificado de HP consiste en minimizar los valores de la serie $\\{ \\tau_t \\}_{t=1}^T$:\n",
        "$$\\sum_{t=1}^T (y_t - \\tau_t)^2 + \\lambda \\sum_{t=2}^{T-1} [(\\tau_{t+1} - \\tau_t) - (\\tau_t - \\tau_{t-1})]^2 + \\lambda_{ss} \\sum_{t=T-j}^{T} [\\Delta \\tau_t - u_{ss}]$$\n",
        "\n",
        "Donde $\\lambda$ es una parámetro fijo (determinado ex-ante), $\\tau_t$ es un componente de tendencia de $y_t$, y los nuevos parámetros son $u_{ss}$ y $\\lambda_{ss}$ ajustadas por el procedimiento de Marcet y Ravn (2004).\n",
        "\n",
        "Este procedimiento asume que parte del filtro HP y que esta versión tiene el problema de pérdida de información al final y al principio de la muestra. La razón es que es un procedimeinto univariado que requiere de mucha información futura y pasada para mejorar el ajuste.\n",
        "\n",
        "El compoenente adicional al filtro HP es un componente de castigo por desviaciones de la tasa de crecimiento de largo plazo, $u_{ss}$.\n",
        "\n",
        "El proceso de selección de $\\lambda_{ss}$ es e propuesto por Marcet y Ravn (2004), el cual consiste en utilizar un $\\lambda$ convencional y el filtro HP convencional para estimar la siguiente función:\n",
        "$$F(\\lambda) = \\frac{\\sum_{t=2}^{T-1} ((\\tau_{t+1} - \\tau_t) - (\\tau_t - \\tau_{t-1}))^2}{\\sum_{t=1}^T (y_t - \\tau_t)^2}$$\n",
        "\n",
        "Entonces el valor de $\\lambda_{ss}$ será aquel que:\n",
        "$$F(\\lambda_{ss}) = \\frac{\\sum_{t=2}^{T-1} ((\\tau_{t+1} - \\tau_t) - (\\tau_t - \\tau_{t-1}))^2}{\\sum_{t=1}^T (y_t - \\tau_t)^2} = F(\\lambda)$$\n",
        "\n",
        "nota: Antón (2009) estimó $\\lambda_{ss} = 1096$ para datos trimestrales del PIB."
      ]
    },
    {
      "cell_type": "markdown",
      "metadata": {
        "id": "AfzkYNa1CVM8"
      },
      "source": [
        "La forma matricial del filtro HP-SAVN es:\n",
        "$$(Y - G)'(Y - G) + \\lambda G' K' K G + \\lambda_{ss} (L^j G + \\overline{u}_{ss} M^j)$$\n",
        "\n",
        "Donde $L^j = (0, 0, \\ldots, 0, -1, 0, \\ldots, 0, 1)$, en el cual el valor $-1$ es en la posición $T-j-1$-ésima, y $M^j$ es un vector que toma valores de cero hasta antes de $T-j$ y de 1 después.\n",
        "\n",
        "La derivada de los anteriores:\n",
        "$$-2 Y + 2 G + \\lambda 2 K' K G + \\lambda_{ss} L'^j = 0$$\n",
        "\n",
        "Despejando:\n",
        "$$G_{SAVN} = \\frac{1}{2} [I_T + \\lambda K' K]^{-1} (2 Y - \\lambda_{ss} L'^j)$$\n",
        "\n",
        "$$G_{SAVN} = [I_T + \\lambda K' K]^{-1} Y - \\frac{1}{2} [I_T + \\lambda K' K]^{-1} \\lambda_{ss} L'^j$$\n",
        "\n",
        "Donde $G$ es el vector de tendencia, $Y$ es el vector de la serie de datos, $\\lambda$ es la constante tradicional, y $K$ es de dimensión $T \\times T$ y está dada por la expresión:\n",
        "\n",
        "$$K' =\n",
        "\\begin{pmatrix}\n",
        "1 & -2 & 1 & 0 & \\ldots & 0 \\\\\n",
        "0 & 1 & -2 & 1 & \\ldots & 0 \\\\\n",
        "\\vdots & \\vdots &  \\vdots &  \\vdots &  \\vdots &  \\vdots \\\\\n",
        "0 & 0 & 0 & 0 & \\ldots & 1 \\\\\n",
        "\\end{pmatrix}\n",
        "$$\n",
        "\n",
        "Dicho lo anterior, podemos modificar $F(\\lambda)$ para el filtro HP convencional como en forma matricial:\n",
        "$$F(\\lambda) = \\frac{G' K' K G}{(Y - G)'(Y - G)}$$"
      ]
    },
    {
      "cell_type": "code",
      "execution_count": null,
      "metadata": {
        "id": "Hb8hPdCLCVM9"
      },
      "outputs": [],
      "source": []
    }
  ],
  "metadata": {
    "kernelspec": {
      "display_name": "Python 3 (ipykernel)",
      "language": "python",
      "name": "python3"
    },
    "language_info": {
      "codemirror_mode": {
        "name": "ipython",
        "version": 3
      },
      "file_extension": ".py",
      "mimetype": "text/x-python",
      "name": "python",
      "nbconvert_exporter": "python",
      "pygments_lexer": "ipython3",
      "version": "3.10.4"
    },
    "colab": {
      "provenance": []
    }
  },
  "nbformat": 4,
  "nbformat_minor": 0
}